{
 "cells": [
  {
   "cell_type": "code",
   "execution_count": 3,
   "id": "b3bd196f",
   "metadata": {},
   "outputs": [
    {
     "name": "stdout",
     "output_type": "stream",
     "text": [
      "[[ True  True  True]\n",
      " [ True  True False]]\n"
     ]
    }
   ],
   "source": [
    "#Task 1: Consider 2-d array and Convert all the elements of a num py array from float to Bool datatype.\n",
    "import numpy as np\n",
    "arr=np.array([[1.2,1.1,3.4],[5.6,2.2,0]])\n",
    "arr = arr.astype(bool)\n",
    "print(arr)"
   ]
  },
  {
   "cell_type": "code",
   "execution_count": 17,
   "id": "1455aa13",
   "metadata": {},
   "outputs": [
    {
     "name": "stdout",
     "output_type": "stream",
     "text": [
      "[1 2 3 4]\n",
      "[ 1  2 55  3  4]\n"
     ]
    }
   ],
   "source": [
    "#Task 2: Write a Python program that uses insert function to add an element to a specific position in a array. \n",
    "#•add the element 55 at position 2.\n",
    "#•Print the updated array after the insertion.\n",
    "import numpy as np\n",
    "arr=np.array([1,2,3,4])\n",
    "print(arr)\n",
    "new=np.insert(arr,2,\"55\")\n",
    "print(new)\n"
   ]
  },
  {
   "cell_type": "code",
   "execution_count": 33,
   "id": "236d58f4",
   "metadata": {},
   "outputs": [
    {
     "name": "stdout",
     "output_type": "stream",
     "text": [
      "[  0   2   4   6   8  10  12  14  16  18  20  22  24  26  28  30  32  34\n",
      "  36  38  40  42  44  46  48  50  52  54  56  58  60  62  64  66  68  70\n",
      "  72  74  76  78  80  82  84  86  88  90  92  94  96  98 100]\n"
     ]
    }
   ],
   "source": [
    "#Task3: Generate a sequence of numbers in the form of a numpy array from 0 to 100 with gaps of 2 numbers, \n",
    "#for example: 0, 2, 4\n",
    "import numpy as np\n",
    "arr=np.arange(0,101,2)\n",
    "print(arr)"
   ]
  },
  {
   "cell_type": "code",
   "execution_count": 26,
   "id": "60227b3f",
   "metadata": {},
   "outputs": [
    {
     "name": "stdout",
     "output_type": "stream",
     "text": [
      "20\n"
     ]
    }
   ],
   "source": [
    "#Task 4:Given 2 numpy arrays as matrices, output the result of multiplying the 2 matrices (as a numpy array)\n",
    "import numpy as np\n",
    "arr1=np.array([1,2,3])\n",
    "arr2=np.array([4,5,2])\n",
    "mul=np.dot(arr1,arr2)\n",
    "print(mul)"
   ]
  },
  {
   "cell_type": "code",
   "execution_count": 41,
   "id": "a40da0b8",
   "metadata": {},
   "outputs": [
    {
     "name": "stdout",
     "output_type": "stream",
     "text": [
      "The number is present\n"
     ]
    }
   ],
   "source": [
    "#Task5: Consider a 1-d array and check whether the specific number is present or not?\n",
    "import numpy as np\n",
    "\n",
    "arr = np.array([1, 2, 7, 4, 5])\n",
    "number = 7\n",
    "for i in arr:\n",
    "    if i == number:\n",
    "        print(\"The number is present\")\n",
    "        break\n",
    "else: \n",
    "    print(\"The number is not present\")\n",
    "\n"
   ]
  },
  {
   "cell_type": "code",
   "execution_count": null,
   "id": "a7fc0a16",
   "metadata": {},
   "outputs": [],
   "source": []
  }
 ],
 "metadata": {
  "kernelspec": {
   "display_name": "Python 3 (ipykernel)",
   "language": "python",
   "name": "python3"
  },
  "language_info": {
   "codemirror_mode": {
    "name": "ipython",
    "version": 3
   },
   "file_extension": ".py",
   "mimetype": "text/x-python",
   "name": "python",
   "nbconvert_exporter": "python",
   "pygments_lexer": "ipython3",
   "version": "3.11.5"
  }
 },
 "nbformat": 4,
 "nbformat_minor": 5
}
