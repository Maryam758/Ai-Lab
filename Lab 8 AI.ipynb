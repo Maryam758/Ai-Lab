{
 "cells": [
  {
   "cell_type": "code",
   "execution_count": 2,
   "id": "a2e46faf",
   "metadata": {},
   "outputs": [
    {
     "name": "stdout",
     "output_type": "stream",
     "text": [
      "['A', 'B', 'D']\n"
     ]
    }
   ],
   "source": [
    "def find_path(graph, start, end, path=[]):\n",
    "    path = path + [start]\n",
    "    if start == end:\n",
    "        return path\n",
    "    if start not in graph:\n",
    "        return None\n",
    "    for node in graph[start]:\n",
    "        if node not in path:\n",
    "            new_path = find_path(graph, node, end, path)  # Recursive call\n",
    "            if new_path:  # If a path was found\n",
    "                return new_path\n",
    "    return None\n",
    "\n",
    "graph = {\n",
    "    'A': ['B', 'C'],\n",
    "    'B': ['D'],\n",
    "    'C': ['E'],\n",
    "    'D': ['C', 'E'],\n",
    "    'E': []\n",
    "}\n",
    "\n",
    "print(find_path(graph, 'A', 'D'))\n"
   ]
  },
  {
   "cell_type": "code",
   "execution_count": 16,
   "id": "455affbd",
   "metadata": {},
   "outputs": [
    {
     "name": "stdout",
     "output_type": "stream",
     "text": [
      "Neighbors of node 'A': ['B', 'C']\n",
      "Neighbors of node 'D': ['B', 'E']\n",
      "Edge exists from 'A' to 'B': True\n",
      "Edge exists from 'B' to 'A': True\n",
      "Shortest path from 'A' to 'D': ['A', 'B', 'D']\n"
     ]
    }
   ],
   "source": [
    "# Directed graph using an adjacency list\n",
    "directed_graph = {\n",
    "    'A': ['B', 'C'],\n",
    "    'B': ['D'],\n",
    "    'C': ['D'],\n",
    "    'E': ['F'],\n",
    "    'D': [],\n",
    "    'F': ['G'],\n",
    "    'G': []\n",
    "}\n",
    "\n",
    "# Function to find neighbors of a node\n",
    "def find_neighbors(graph, node):\n",
    "    return graph.get(node, None)\n",
    "\n",
    "# Function to check if an edge exists\n",
    "def edge_exists(graph, start, end):\n",
    "    return start in graph and end in graph[start]\n",
    "\n",
    "# Undirected graph using an adjacency list\n",
    "undirected_graph = {\n",
    "    'A': ['B', 'C'],\n",
    "    'B': ['A', 'D'],\n",
    "    'C': ['A'],\n",
    "    'D': ['B', 'E'],\n",
    "    'E': ['D', 'F'],\n",
    "    'F': ['E', 'G'],\n",
    "    'G': ['F']\n",
    "}\n",
    "\n",
    "# Weighted graph with adjacency list\n",
    "weighted_graph = {\n",
    "    'A': [('B', 2), ('C', 3)],\n",
    "    'B': [('D', 1)],\n",
    "    'C': [('D', 4)],\n",
    "    'D': [],\n",
    "    'E': [('F', 6)],\n",
    "    'F': [('G', 5)],\n",
    "    'G': []\n",
    "}\n",
    "\n",
    "# Function to find the shortest path in a weighted graph (without using heap)\n",
    "def find_shortest_path(graph, start, end):\n",
    "    queue = [[start]]\n",
    "    visited = set()\n",
    "    while queue:\n",
    "        path = queue.pop(0)  # Get the first path from the queue\n",
    "        node = path[-1]\n",
    "        \n",
    "        if node in visited:\n",
    "            continue\n",
    "        visited.add(node)\n",
    "        \n",
    "        for neighbor, weight in graph.get(node, []):\n",
    "            new_path = list(path)\n",
    "            new_path.append(neighbor)\n",
    "            queue.append(new_path)\n",
    "            \n",
    "            if neighbor == end:\n",
    "                return new_path\n",
    "    return None\n",
    "\n",
    "# Testing the functions\n",
    "print(\"Neighbors of node 'A':\", find_neighbors(directed_graph, 'A'))\n",
    "print(\"Neighbors of node 'D':\", find_neighbors(undirected_graph, 'D'))\n",
    "print(\"Edge exists from 'A' to 'B':\", edge_exists(directed_graph, 'A', 'B'))\n",
    "print(\"Edge exists from 'B' to 'A':\", edge_exists(undirected_graph, 'B', 'A'))\n",
    "\n",
    "# Testing find_shortest_path\n",
    "shortest_path = find_shortest_path(weighted_graph, 'A', 'D')\n",
    "print(\"Shortest path from 'A' to 'D':\", shortest_path)\n"
   ]
  },
  {
   "cell_type": "code",
   "execution_count": null,
   "id": "83fc166d",
   "metadata": {},
   "outputs": [],
   "source": []
  },
  {
   "cell_type": "code",
   "execution_count": null,
   "id": "510fc1b5",
   "metadata": {},
   "outputs": [],
   "source": []
  }
 ],
 "metadata": {
  "kernelspec": {
   "display_name": "Python 3 (ipykernel)",
   "language": "python",
   "name": "python3"
  },
  "language_info": {
   "codemirror_mode": {
    "name": "ipython",
    "version": 3
   },
   "file_extension": ".py",
   "mimetype": "text/x-python",
   "name": "python",
   "nbconvert_exporter": "python",
   "pygments_lexer": "ipython3",
   "version": "3.11.5"
  }
 },
 "nbformat": 4,
 "nbformat_minor": 5
}
