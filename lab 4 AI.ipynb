{
 "cells": [
  {
   "cell_type": "code",
   "execution_count": 4,
   "id": "a4fd92ff",
   "metadata": {},
   "outputs": [
    {
     "name": "stdout",
     "output_type": "stream",
     "text": [
      "27\n"
     ]
    }
   ],
   "source": [
    "numbers = [17, 5, 3, 0, 2] \n",
    "\n",
    "def function(numbers):\n",
    "    total = 0\n",
    "    for x in numbers: \n",
    "        total = total + x\n",
    "    print(total)\n",
    "\n",
    "function(numbers)\n"
   ]
  },
  {
   "cell_type": "code",
   "execution_count": 6,
   "id": "f1a1620c",
   "metadata": {},
   "outputs": [
    {
     "name": "stdout",
     "output_type": "stream",
     "text": [
      "Student with roll number 104 is present.\n"
     ]
    }
   ],
   "source": [
    "\n",
    "def fun(roll_number, rollNumbers):\n",
    "    return roll_number in rollNumbers\n",
    "\n",
    "rollNumbers = [101, 102, 103, 104, 105]\n",
    "check = 104\n",
    "\n",
    "if fun(check, rollNumbers):\n",
    "    print(f\"Student with roll number {check} is present.\")\n",
    "else:\n",
    "    print(f\"Student with roll number {check} is absent.\")\n"
   ]
  },
  {
   "cell_type": "code",
   "execution_count": 8,
   "id": "6585686c",
   "metadata": {},
   "outputs": [
    {
     "name": "stdout",
     "output_type": "stream",
     "text": [
      "Name: Maryam\n",
      "Roll Number: 101\n",
      "Updated Name: Ayesha\n",
      "Updated Roll Number: 102\n"
     ]
    }
   ],
   "source": [
    "class Student:\n",
    "    def __init__(self, name, roll_number):  \n",
    "        self.name = name\n",
    "        self.roll_number = roll_number\n",
    "\n",
    "student1 = Student(\"Maryam\", 101)\n",
    "\n",
    "print(f\"Name: {student1.name}\")\n",
    "print(f\"Roll Number: {student1.roll_number}\")\n",
    "\n",
    "\n",
    "student1.name = \"Ayesha\"\n",
    "student1.roll_number = 102\n",
    "\n",
    "\n",
    "print(f\"Updated Name: {student1.name}\")\n",
    "print(f\"Updated Roll Number: {student1.roll_number}\")\n"
   ]
  },
  {
   "cell_type": "code",
   "execution_count": 12,
   "id": "bb16af14",
   "metadata": {},
   "outputs": [
    {
     "name": "stdout",
     "output_type": "stream",
     "text": [
      "Maryam 22\n",
      "Shiza 20\n",
      "Aliza 24\n"
     ]
    }
   ],
   "source": [
    "class Person:\n",
    "    def __init__(self, name, age): \n",
    "        self.name = name\n",
    "        self.age = age\n",
    "\n",
    "p1 = Person(\"Maryam\", 22)\n",
    "p2 = Person(\"Shiza\", 20)\n",
    "p3 = Person(\"Aliza\", 24)  \n",
    "\n",
    "# Printing names and ages\n",
    "print(p1.name, p1.age)  \n",
    "print(p2.name, p2.age)\n",
    "print(p3.name, p3.age)\n"
   ]
  },
  {
   "cell_type": "code",
   "execution_count": 13,
   "id": "e7546612",
   "metadata": {},
   "outputs": [
    {
     "name": "stdout",
     "output_type": "stream",
     "text": [
      "Maryam's average grade: 86.25\n",
      "Shiza's average grade: 86.33333333333333\n",
      "Aliza's average grade: 85.0.\n"
     ]
    }
   ],
   "source": [
    "class Student:\n",
    "    def __init__(self, name, age, grades):  \n",
    "        self.name = name\n",
    "        self.age = age\n",
    "        self.grades = grades\n",
    "\n",
    "    def average(self):\n",
    "        if not self.grades:  \n",
    "            return 0\n",
    "        return sum(self.grades) / len(self.grades)\n",
    "\n",
    "\n",
    "s1 = Student(\"Maryam\", 22, [85, 90, 78, 92]) \n",
    "s2 = Student(\"Shiza\", 20, [88, 76, 95])\n",
    "s3 = Student(\"Aliza\", 24, [70, 80, 90, 100])\n",
    "\n",
    "\n",
    "print(f\"{s1.name}'s average grade: {s1.average()}\")\n",
    "print(f\"{s2.name}'s average grade: {s2.average()}\")\n",
    "print(f\"{s3.name}'s average grade: {s3.average()}.\")\n"
   ]
  },
  {
   "cell_type": "code",
   "execution_count": null,
   "id": "b2220196",
   "metadata": {},
   "outputs": [],
   "source": []
  }
 ],
 "metadata": {
  "kernelspec": {
   "display_name": "Python 3 (ipykernel)",
   "language": "python",
   "name": "python3"
  },
  "language_info": {
   "codemirror_mode": {
    "name": "ipython",
    "version": 3
   },
   "file_extension": ".py",
   "mimetype": "text/x-python",
   "name": "python",
   "nbconvert_exporter": "python",
   "pygments_lexer": "ipython3",
   "version": "3.11.5"
  }
 },
 "nbformat": 4,
 "nbformat_minor": 5
}
