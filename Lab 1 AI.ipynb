{
 "cells": [
  {
   "cell_type": "code",
   "execution_count": 3,
   "id": "00c776fd",
   "metadata": {},
   "outputs": [
    {
     "name": "stdout",
     "output_type": "stream",
     "text": [
      "My name is maryam\n",
      "22\n",
      "house abc, street 12, pakistan town\n",
      "92300111111\n",
      "maryam.azhar12@gmail.com\n",
      "1311234133423\n"
     ]
    }
   ],
   "source": [
    "import pandas as pd\n",
    "import numpy as np\n",
    "\n",
    "name = 'maryam'\n",
    "print('My name is ' + name)\n",
    "\n",
    "age = 22\n",
    "print(age)\n",
    "\n",
    "address = 'house abc, street 12, pakistan town'\n",
    "print(address)\n",
    "\n",
    "pNo = 92300111111\n",
    "print(pNo)\n",
    "\n",
    "email = 'maryam.azhar12@gmail.com'\n",
    "print(email)\n",
    "\n",
    "cnic = 1311234133423\n",
    "print(cnic)\n"
   ]
  },
  {
   "cell_type": "code",
   "execution_count": 4,
   "id": "e28e5025",
   "metadata": {},
   "outputs": [
    {
     "name": "stdout",
     "output_type": "stream",
     "text": [
      "Enter sap id2\n",
      "enter namemaryam\n",
      "hey maryam your sap is 2\n"
     ]
    }
   ],
   "source": [
    "sap = input('Enter sap id')\n",
    "name = input('enter name')\n",
    "print('hey '+ name + ' your sap is ' + sap)"
   ]
  },
  {
   "cell_type": "code",
   "execution_count": 6,
   "id": "ceb51841",
   "metadata": {},
   "outputs": [
    {
     "name": "stdout",
     "output_type": "stream",
     "text": [
      "3\n",
      "2\n"
     ]
    }
   ],
   "source": [
    "a=2 \n",
    "b=3\n",
    "temp=a\n",
    "a=b\n",
    "b=temp\n",
    "print(a)\n",
    "print(b)"
   ]
  },
  {
   "cell_type": "code",
   "execution_count": 7,
   "id": "63ec780a",
   "metadata": {},
   "outputs": [
    {
     "name": "stdout",
     "output_type": "stream",
     "text": [
      "1\n",
      "19\n",
      "6\n",
      "3\n"
     ]
    }
   ],
   "source": [
    "message= 'programming language' \n",
    "print(message.find('r')) \n",
    "print(message.find('e')) \n",
    "print(message.find('m')) \n",
    "print(message.find('g'))"
   ]
  },
  {
   "cell_type": "code",
   "execution_count": 8,
   "id": "d8010873",
   "metadata": {},
   "outputs": [
    {
     "name": "stdout",
     "output_type": "stream",
     "text": [
      "True\n"
     ]
    }
   ],
   "source": [
    "a=5 \n",
    "b=10\n",
    "print(a<b)"
   ]
  },
  {
   "cell_type": "code",
   "execution_count": null,
   "id": "c6555fa3",
   "metadata": {},
   "outputs": [],
   "source": []
  }
 ],
 "metadata": {
  "kernelspec": {
   "display_name": "Python 3 (ipykernel)",
   "language": "python",
   "name": "python3"
  },
  "language_info": {
   "codemirror_mode": {
    "name": "ipython",
    "version": 3
   },
   "file_extension": ".py",
   "mimetype": "text/x-python",
   "name": "python",
   "nbconvert_exporter": "python",
   "pygments_lexer": "ipython3",
   "version": "3.11.5"
  }
 },
 "nbformat": 4,
 "nbformat_minor": 5
}
